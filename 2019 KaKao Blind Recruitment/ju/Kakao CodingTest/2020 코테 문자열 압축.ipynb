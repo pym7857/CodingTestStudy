{
 "cells": [
  {
   "cell_type": "code",
   "execution_count": null,
   "metadata": {},
   "outputs": [],
   "source": [
    "def solution(s):\n",
    "    answer = 1000\n",
    "    s_len = len(s) #s(문자열)의 길이 저장\n",
    "\n",
    "    for i in range(s_len):\n",
    "        tmp = 0\n",
    "        if(s_len % (i+1) != 0):#한 길이로 모든 문자열이 압축이 안되는 경우\n",
    "            tmp = comp(s,i+1) + s_len%(i+1) #압축되는거만 하고 나머지 길이는 그냥 더해줌\n",
    "            if(answer > tmp):#길이가 더 작으면 answer에 넣어줌\n",
    "                answer = tmp\n",
    "        else:#한 길이로 압축이 되는 경우\n",
    "            tmp = comp(s,i+1)\n",
    "            if(answer > tmp):\n",
    "                answer = tmp\n",
    "\n",
    "    return answer\n",
    "\n",
    "def comp(s, comp_len):#압축\n",
    "    pre_str = \"\"#이전 문자열\n",
    "    answer = 0\n",
    "    stack = 0\n",
    "\n",
    "    for i in range(int(len(s)/comp_len)):\n",
    "        if(pre_str == ''):#이제 압축 처음 시작하는 경우\n",
    "            pre_str = s[i*comp_len : i*comp_len + comp_len] #현재 문자열을 pre_str에 저장\n",
    "            answer += comp_len#압축하는 문자열의 길이를 더해줌\n",
    "            stack += 1#압축하는 문자열의 개수\n",
    "        else:\n",
    "            if(pre_str == s[i*comp_len : i*comp_len + comp_len]):#이전에 압축했던 문자열과 현재 문자열이 같은 경우\n",
    "                if(stack == 1):#문자열 압축이 1개인 경우\n",
    "                    answer += 1\n",
    "                    stack += 1\n",
    "                else:#그 외\n",
    "                    stack += 1\n",
    "                    if(stack == 10):#10,100,1000의 경우 answer을 1개씩 더해줘야함\n",
    "                        answer += 1\n",
    "                    elif(stack == 100):\n",
    "                        answer += 1\n",
    "                    elif(stack == 1000):\n",
    "                        answer += 1\n",
    "            elif(pre_str != s[i*comp_len : i*comp_len + comp_len]):#이전에 압축했던 문자열과 현재 문자열이 다른 경우\n",
    "                pre_str = s[i*comp_len : i*comp_len + comp_len]#pre_str 초기화시켜줌\n",
    "                answer += comp_len#압축하는 문자열의 길이 더해줌\n",
    "                stack = 1#stack 초기화\n",
    "\n",
    "    return answer     "
   ]
  }
 ],
 "metadata": {
  "kernelspec": {
   "display_name": "Python 3",
   "language": "python",
   "name": "python3"
  },
  "language_info": {
   "codemirror_mode": {
    "name": "ipython",
    "version": 3
   },
   "file_extension": ".py",
   "mimetype": "text/x-python",
   "name": "python",
   "nbconvert_exporter": "python",
   "pygments_lexer": "ipython3",
   "version": "3.7.4"
  }
 },
 "nbformat": 4,
 "nbformat_minor": 2
}
