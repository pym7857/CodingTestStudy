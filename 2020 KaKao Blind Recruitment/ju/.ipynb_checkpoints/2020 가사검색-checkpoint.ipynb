{
 "cells": [
  {
   "cell_type": "code",
   "execution_count": null,
   "metadata": {},
   "outputs": [],
   "source": [
    "import re\n",
    "\n",
    "def solution(words, queries):\n",
    "    answer = []\n",
    "    query_len_arr = []\n",
    "    word_len = len(words) #단어 배열 길이\n",
    "    query_len = len(queries) # 쿼리 배열 길이\n",
    "    \n",
    "\n",
    "    for i in range(query_len): #정규표현식의 길이 측정\n",
    "        query_len_arr.append(len(queries[i]))\n",
    "        queries[i] = queries[i].replace('?', '.')\n",
    "    \n",
    "    for i in range(query_len):\n",
    "        cnt = 0\n",
    "        p = re.compile(queries[i])\n",
    "        \n",
    "        for j in range(word_len):\n",
    "            if(int(query_len_arr[i]) != len(words[j])): #단어의 길이와 쿼리 배열 길이가 다르면 넘어감\n",
    "                continue\n",
    "            else:\n",
    "                if(p.match(words[j])):\n",
    "                    cnt += 1\n",
    "        \n",
    "        answer.append(cnt)\n",
    "                \n",
    "    \n",
    "    return answer"
   ]
  }
 ],
 "metadata": {
  "kernelspec": {
   "display_name": "Python 3",
   "language": "python",
   "name": "python3"
  },
  "language_info": {
   "codemirror_mode": {
    "name": "ipython",
    "version": 3
   },
   "file_extension": ".py",
   "mimetype": "text/x-python",
   "name": "python",
   "nbconvert_exporter": "python",
   "pygments_lexer": "ipython3",
   "version": "3.7.4"
  }
 },
 "nbformat": 4,
 "nbformat_minor": 2
}
